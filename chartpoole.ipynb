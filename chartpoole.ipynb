{
 "cells": [
  {
   "cell_type": "markdown",
   "metadata": {},
   "source": [
    "Thanks to \n",
    "\n",
    "http://kvfrans.com/simple-algoritms-for-solving-cartpole/"
   ]
  },
  {
   "cell_type": "code",
   "execution_count": 46,
   "metadata": {
    "collapsed": true
   },
   "outputs": [],
   "source": [
    "%matplotlib inline\n",
    "%config InlineBackend.figure_format = 'retina'\n",
    "\n",
    "import numpy as np\n",
    "import pandas as pd\n",
    "import matplotlib.pyplot as plt\n",
    "import gym"
   ]
  },
  {
   "cell_type": "markdown",
   "metadata": {},
   "source": [
    "#  The problem\n",
    "\n",
    "Given 4 numeric values representing observations\n",
    "select the base action 1 or -1 so that the total reward during a episode is maximised.\n",
    "\n",
    "Solution a linear model where we move left if the output is less than 0 otherwise we move right.\n",
    "\n",
    "How to solve the linear problem so that we can find the set of parameters that maximize the reward?"
   ]
  },
  {
   "cell_type": "code",
   "execution_count": 47,
   "metadata": {
    "collapsed": false
   },
   "outputs": [],
   "source": [
    "parameters = np.random.rand(4) * 2 - 1"
   ]
  },
  {
   "cell_type": "code",
   "execution_count": 48,
   "metadata": {
    "collapsed": true
   },
   "outputs": [],
   "source": [
    "def run_episode(env, parameters):\n",
    "    observation = env.reset()\n",
    "    totalreward = 0\n",
    "    for _ in range(200):\n",
    "        action = 0 if np.matmul(parameters,observation) < 0 else 1\n",
    "        observation, reward, done, info = env.step(action)\n",
    "        #Get +1 in reward each timestep\n",
    "        totalreward += reward\n",
    "        if done:\n",
    "            break\n",
    "    return totalreward"
   ]
  },
  {
   "cell_type": "markdown",
   "metadata": {},
   "source": [
    "# Method 1\n",
    "## Random search\n",
    "\n",
    "Just randomly jump around in parameter space trying to find a good configuration"
   ]
  },
  {
   "cell_type": "code",
   "execution_count": 49,
   "metadata": {
    "collapsed": false
   },
   "outputs": [],
   "source": [
    "def random_search_policy():\n",
    "    bestparams = None\n",
    "    bestreward = 0\n",
    "    for i in range(10000):\n",
    "        parameters = np.random.rand(4) * 2 - 1\n",
    "        reward = run_episode(env, parameters)\n",
    "        if reward > bestreward:\n",
    "            bestreward = reward\n",
    "            bestparams = parameters\n",
    "            # Considered solved if agent lasts 200 timesteps\n",
    "            if reward == 200:\n",
    "                break\n",
    "    return i, bestparams, bestreward"
   ]
  },
  {
   "cell_type": "code",
   "execution_count": 50,
   "metadata": {
    "collapsed": false
   },
   "outputs": [
    {
     "name": "stderr",
     "output_type": "stream",
     "text": [
      "[2017-02-18 22:34:47,109] Making new env: CartPole-v0\n"
     ]
    }
   ],
   "source": [
    "envname = 'CartPole-v0'\n",
    "env = gym.make(envname)\n",
    "episodes_to_200 = []\n",
    "for _ in range(1000):\n",
    "    episodes, _, _ = random_search_policy()\n",
    "    episodes_to_200.append(episodes)"
   ]
  },
  {
   "cell_type": "code",
   "execution_count": 55,
   "metadata": {
    "collapsed": false
   },
   "outputs": [
    {
     "data": {
      "image/png": "[encoded data removed]",
      "text/plain": [
       "<matplotlib.figure.Figure at 0x110380470>"
      ]
     },
     "metadata": {
      "image/png": {
       "height": 277,
       "width": 390
      }
     },
     "output_type": "display_data"
    },
    {
     "name": "stdout",
     "output_type": "stream",
     "text": [
      "12.814\n"
     ]
    }
   ],
   "source": [
    "df = pd.Series(episodes_to_200)#.value_counts(normalize=True)\n",
    "df.hist()\n",
    "plt.title(\"Random weight search\")\n",
    "plt.xlabel(\"Episodes before 200\")\n",
    "plt.ylabel(\"Frequency\")\n",
    "plt.show()\n",
    "\n",
    "print(df.mean())"
   ]
  },
  {
   "cell_type": "markdown",
   "metadata": {},
   "source": [
    "# Method 2\n",
    "## Hill-Climbing\n",
    "Randomly initialize weights. Add som nose to weights,\n",
    "keep the new weights if the policy is improved by the noice."
   ]
  },
  {
   "cell_type": "code",
   "execution_count": 58,
   "metadata": {
    "collapsed": true
   },
   "outputs": [],
   "source": [
    "def hill_climbing_policy():\n",
    "    noise_scaling = 0.1\n",
    "    parameters = np.random.rand(4) * 2 - 1  \n",
    "    bestreward = 0\n",
    "    allrewards = []\n",
    "    for i in range(10000):\n",
    "        newparams = parameters + (np.random.rand(4) * 2 - 1) * noise_scaling\n",
    "        reward = 0\n",
    "        run = run_episode(env,newparams)\n",
    "        if reward > bestreward:\n",
    "            bestreward = reward\n",
    "            parameters = newparams\n",
    "            allrewards.append(reward)\n",
    "            if reward == 200:\n",
    "                break\n",
    "    return i, parameters, bestreward"
   ]
  },
  {
   "cell_type": "code",
   "execution_count": 59,
   "metadata": {
    "collapsed": false
   },
   "outputs": [
    {
     "name": "stderr",
     "output_type": "stream",
     "text": [
      "[2017-02-18 22:38:30,923] Making new env: CartPole-v0\n"
     ]
    },
    {
     "name": "stdout",
     "output_type": "stream",
     "text": [
      "Episode:  0\n",
      "Episode:  10\n",
      "Episode:  20\n",
      "Episode:  30\n",
      "Episode:  40\n",
      "Episode:  50\n",
      "Episode:  60\n",
      "Episode:  70\n",
      "Episode:  80\n",
      "Episode:  90\n",
      "Episode:  100\n",
      "Episode:  110\n",
      "Episode:  120\n",
      "Episode:  130\n",
      "Episode:  140\n",
      "Episode:  150\n",
      "Episode:  160\n",
      "Episode:  170\n",
      "Episode:  180\n",
      "Episode:  190\n",
      "Episode:  200\n",
      "Episode:  210\n",
      "Episode:  220\n",
      "Episode:  230\n",
      "Episode:  240\n",
      "Episode:  250\n",
      "Episode:  260\n",
      "Episode:  270\n",
      "Episode:  280\n",
      "Episode:  290\n",
      "Episode:  300\n",
      "Episode:  310\n",
      "Episode:  320\n",
      "Episode:  330\n",
      "Episode:  340\n",
      "Episode:  350\n",
      "Episode:  360\n",
      "Episode:  370\n",
      "Episode:  380\n",
      "Episode:  390\n",
      "Episode:  400\n",
      "Episode:  410\n",
      "Episode:  420\n",
      "Episode:  430\n",
      "Episode:  440\n",
      "Episode:  450\n",
      "Episode:  460\n",
      "Episode:  470\n",
      "Episode:  480\n",
      "Episode:  490\n",
      "Episode:  500\n",
      "Episode:  510\n",
      "Episode:  520\n",
      "Episode:  530\n",
      "Episode:  540\n",
      "Episode:  550\n",
      "Episode:  560\n",
      "Episode:  570\n",
      "Episode:  580\n",
      "Episode:  590\n",
      "Episode:  600\n",
      "Episode:  610\n",
      "Episode:  620\n",
      "Episode:  630\n",
      "Episode:  640\n",
      "Episode:  650\n",
      "Episode:  660\n",
      "Episode:  670\n",
      "Episode:  680\n",
      "Episode:  690\n",
      "Episode:  700\n",
      "Episode:  710\n",
      "Episode:  720\n",
      "Episode:  730\n",
      "Episode:  740\n",
      "Episode:  750\n",
      "Episode:  760\n",
      "Episode:  770\n",
      "Episode:  780\n",
      "Episode:  790\n",
      "Episode:  800\n",
      "Episode:  810\n",
      "Episode:  820\n",
      "Episode:  830\n",
      "Episode:  840\n",
      "Episode:  850\n",
      "Episode:  860\n",
      "Episode:  870\n",
      "Episode:  880\n",
      "Episode:  890\n",
      "Episode:  900\n",
      "Episode:  910\n",
      "Episode:  920\n",
      "Episode:  930\n",
      "Episode:  940\n",
      "Episode:  950\n",
      "Episode:  960\n",
      "Episode:  970\n",
      "Episode:  980\n",
      "Episode:  990\n"
     ]
    }
   ],
   "source": [
    "envname = 'CartPole-v0'\n",
    "env = gym.make(envname)\n",
    "episodes_to_200 = []\n",
    "for i in range(1000):\n",
    "    episode, _ ,_ = hill_climbing_policy()\n",
    "    episodes_to_200.append(episode)\n",
    "    if i % 10 == 0:\n",
    "        print('Episode: ', i)"
   ]
  },
  {
   "cell_type": "code",
   "execution_count": 61,
   "metadata": {
    "collapsed": false
   },
   "outputs": [
    {
     "data": {
      "image/png": "[encoded data removed]",
      "text/plain": [
       "<matplotlib.figure.Figure at 0x110166780>"
      ]
     },
     "metadata": {
      "image/png": {
       "height": 277,
       "width": 396
      }
     },
     "output_type": "display_data"
    }
   ],
   "source": [
    "df = pd.Series(episodes_to_200)#.value_counts(normalize=True)\n",
    "df.hist()\n",
    "plt.title(\"Random weight search\")\n",
    "plt.xlabel(\"Episodes before 200\")\n",
    "plt.ylabel(\"Frequency\")\n",
    "plt.show()"
   ]
  },
  {
   "cell_type": "markdown",
   "metadata": {},
   "source": [
    "# Method 3\n",
    "## Policy Gradient\n",
    "Switch from determenistic policy to stochastic policy.\n",
    "\n",
    "Goal is to condition a distribution of actions so that it selects the correct action with high probability."
   ]
  },
  {
   "cell_type": "code",
   "execution_count": 62,
   "metadata": {
    "collapsed": true
   },
   "outputs": [],
   "source": [
    "import tensorflow as tf"
   ]
  },
  {
   "cell_type": "code",
   "execution_count": 68,
   "metadata": {
    "collapsed": true
   },
   "outputs": [],
   "source": [
    "def policy_gradient():\n",
    "    '''\n",
    "    Defines how to update the policy to prefere certain\n",
    "    actions.\n",
    "    If we had an oracle problem would be solved.\n",
    "    (If we can learn a env we can use optimal control to get an oracle)\n",
    "    '''\n",
    "    params = tf.get_variable(\"policy_parameters\", [4,2])\n",
    "    state = tf.placeholder(\"float\", [None,4])\n",
    "    actions = tf.placeholder(\"float\",[None,2])\n",
    "    linear = tf.matmul(state,params)\n",
    "    probabilities = tf.nn.softmax(linear)\n",
    "    good_probabilities = tf.reduce_sum(tf.mul(probabilities, actions),reduction_indices=[1])\n",
    "    print(state.run(good_probabilities))\n",
    "    #maximize the log probability\n",
    "    log_probabilities = tf.log(good_probabilities)\n",
    "    loss = -tf.reduce_sum(log_probabilities)\n",
    "    optimizer = tf.train.AdamOptimizer(0.01).minimize(loss)\n",
    "    \n",
    "    return probabilities, state, actions, advantages, optimizer"
   ]
  },
  {
   "cell_type": "markdown",
   "metadata": {},
   "source": [
    "How can we know how good it is to take an action from a state?\n",
    "Well we can not but we can approximate it by calculate the expected reward from this state onward. basing the current states value based on future approximations is called bootstraping."
   ]
  },
  {
   "cell_type": "code",
   "execution_count": 67,
   "metadata": {
    "collapsed": true
   },
   "outputs": [],
   "source": [
    "def value_gradient():\n",
    "    '''\n",
    "    The expected value is the average over all actions\n",
    "    from this state.\n",
    "    '''\n",
    "    state = tf.placeholder(tf.float64, [None, 4])\n",
    "    w1 = tf.get_variable('w1', [4,10])\n",
    "    b1 = tf.get_variable('b1',[10])\n",
    "    h1 = tf.nn.relu(tf.matmul(state,w1) + b1)\n",
    "    w2 = tf.get_variable('w2',[10,1])\n",
    "    b2 = tf.get_variable('b2',[1])\n",
    "    calculated = tf.matmul(h1,w2) + b2\n",
    "    \n",
    "    newvals = tf.placeholder(tf.float64, [None,1])\n",
    "    diffs = calculated - newvals\n",
    "    loss = tf.nn.l2_loss(diffs)\n",
    "    optimizer = tf.train.AdamOptimizer(0.1).minimize(loss)\n",
    "    \n",
    "    return calculated, state, newvals, optimizer, loss\n"
   ]
  },
  {
   "cell_type": "code",
   "execution_count": 69,
   "metadata": {
    "collapsed": false
   },
   "outputs": [
    {
     "ename": "AttributeError",
     "evalue": "module 'tensorflow' has no attribute 'mul'",
     "output_type": "error",
     "traceback": [
      "\u001b[0;31m---------------------------------------------------------------------------\u001b[0m",
      "\u001b[0;31mAttributeError\u001b[0m                            Traceback (most recent call last)",
      "\u001b[0;32m<ipython-input-69-0c5eac627d7d>\u001b[0m in \u001b[0;36m<module>\u001b[0;34m()\u001b[0m\n\u001b[0;32m----> 1\u001b[0;31m \u001b[0mpl_probabilities\u001b[0m\u001b[0;34m,\u001b[0m \u001b[0mpl_state\u001b[0m \u001b[0;34m=\u001b[0m \u001b[0mpolicy_gradient\u001b[0m\u001b[0;34m(\u001b[0m\u001b[0;34m)\u001b[0m\u001b[0;34m\u001b[0m\u001b[0m\n\u001b[0m\u001b[1;32m      2\u001b[0m \u001b[0mobservation\u001b[0m \u001b[0;34m=\u001b[0m \u001b[0menv\u001b[0m\u001b[0;34m.\u001b[0m\u001b[0mreset\u001b[0m\u001b[0;34m(\u001b[0m\u001b[0;34m)\u001b[0m\u001b[0;34m\u001b[0m\u001b[0m\n\u001b[1;32m      3\u001b[0m \u001b[0mactions\u001b[0m \u001b[0;34m=\u001b[0m \u001b[0;34m[\u001b[0m\u001b[0;34m]\u001b[0m\u001b[0;34m\u001b[0m\u001b[0m\n\u001b[1;32m      4\u001b[0m \u001b[0mtransitions\u001b[0m \u001b[0;34m=\u001b[0m \u001b[0;34m[\u001b[0m\u001b[0;34m]\u001b[0m\u001b[0;34m\u001b[0m\u001b[0m\n\u001b[1;32m      5\u001b[0m \u001b[0;31m# Generate 200 rollouts\u001b[0m\u001b[0;34m\u001b[0m\u001b[0;34m\u001b[0m\u001b[0m\n",
      "\u001b[0;32m<ipython-input-68-c7e1344f95c0>\u001b[0m in \u001b[0;36mpolicy_gradient\u001b[0;34m()\u001b[0m\n\u001b[1;32m     11\u001b[0m     \u001b[0mlinear\u001b[0m \u001b[0;34m=\u001b[0m \u001b[0mtf\u001b[0m\u001b[0;34m.\u001b[0m\u001b[0mmatmul\u001b[0m\u001b[0;34m(\u001b[0m\u001b[0mstate\u001b[0m\u001b[0;34m,\u001b[0m\u001b[0mparams\u001b[0m\u001b[0;34m)\u001b[0m\u001b[0;34m\u001b[0m\u001b[0m\n\u001b[1;32m     12\u001b[0m     \u001b[0mprobabilities\u001b[0m \u001b[0;34m=\u001b[0m \u001b[0mtf\u001b[0m\u001b[0;34m.\u001b[0m\u001b[0mnn\u001b[0m\u001b[0;34m.\u001b[0m\u001b[0msoftmax\u001b[0m\u001b[0;34m(\u001b[0m\u001b[0mlinear\u001b[0m\u001b[0;34m)\u001b[0m\u001b[0;34m\u001b[0m\u001b[0m\n\u001b[0;32m---> 13\u001b[0;31m     \u001b[0mgood_probabilities\u001b[0m \u001b[0;34m=\u001b[0m \u001b[0mtf\u001b[0m\u001b[0;34m.\u001b[0m\u001b[0mreduce_sum\u001b[0m\u001b[0;34m(\u001b[0m\u001b[0mtf\u001b[0m\u001b[0;34m.\u001b[0m\u001b[0mmul\u001b[0m\u001b[0;34m(\u001b[0m\u001b[0mprobabilities\u001b[0m\u001b[0;34m,\u001b[0m \u001b[0mactions\u001b[0m\u001b[0;34m)\u001b[0m\u001b[0;34m,\u001b[0m\u001b[0mreduction_indices\u001b[0m\u001b[0;34m=\u001b[0m\u001b[0;34m[\u001b[0m\u001b[0;36m1\u001b[0m\u001b[0;34m]\u001b[0m\u001b[0;34m)\u001b[0m\u001b[0;34m\u001b[0m\u001b[0m\n\u001b[0m\u001b[1;32m     14\u001b[0m     \u001b[0mprint\u001b[0m\u001b[0;34m(\u001b[0m\u001b[0mstate\u001b[0m\u001b[0;34m.\u001b[0m\u001b[0mrun\u001b[0m\u001b[0;34m(\u001b[0m\u001b[0mgood_probabilities\u001b[0m\u001b[0;34m)\u001b[0m\u001b[0;34m)\u001b[0m\u001b[0;34m\u001b[0m\u001b[0m\n\u001b[1;32m     15\u001b[0m     \u001b[0;31m#maximize the log probability\u001b[0m\u001b[0;34m\u001b[0m\u001b[0;34m\u001b[0m\u001b[0m\n",
      "\u001b[0;31mAttributeError\u001b[0m: module 'tensorflow' has no attribute 'mul'"
     ]
    }
   ],
   "source": [
    "pl_probabilities, pl_state = policy_gradient()\n",
    "observation = env.reset()\n",
    "actions = []\n",
    "transitions = []\n",
    "# Generate 200 rollouts\n",
    "for i in range(200):\n",
    "    #calculate policy\n",
    "    obs_vector = np.expand_dims(observation,axis=0)\n",
    "    probs = sess.run(pl_probabilities,feed_dict={pl_state: obs_vector})\n",
    "    actions = 0 if random.uniform(0,1) < probs[0][0] else 1\n",
    "    \n",
    "    #record transition\n",
    "    states.append(observation)\n",
    "    actionblank = np.zeros(2)\n",
    "    actionblank[action] = 1\n",
    "    actions.append(actionblank)\n",
    "    \n",
    "    #take the action in the environment\n",
    "    old_observation = observation\n",
    "    observation, reward, done, info = env.step(action)\n",
    "    transitions.append((old_observation, action, reward))\n",
    "    totalreward += reward\n",
    "    \n",
    "    if done:\n",
    "        break"
   ]
  },
  {
   "cell_type": "code",
   "execution_count": null,
   "metadata": {
    "collapsed": true
   },
   "outputs": [],
   "source": [
    "vl_calculated, vl_state, vl_newvals, vl_optimizer, vl_loss = value_grad\n",
    "update_vals = []\n",
    "for index, trans in enumerate(transitions):\n",
    "    obs, action, reward = trans\n",
    "    # calculate discounted monte-carlo return\n",
    "    future_reward = 0\n",
    "    future_transitions = len(transitions) - index\n",
    "    decrease = 1\n",
    "    for index2 in range(future_transitions):\n",
    "        #discounted sum of returns\n",
    "        future_reward += transitions[(index2) + index][2] * decrese\n",
    "        decrease = decrease * .97\n",
    "    update_vals.append(future_reward)\n",
    "update_vals_vector = np.expand_dims(update_vals, axis=1)\n",
    "sess.run(vl_optimizer, feed_dict={vl_state: states, vl_newvals: update_vals_vector})\n",
    "    "
   ]
  }
 ],
 "metadata": {
  "kernelspec": {
   "display_name": "Python 3",
   "language": "python",
   "name": "python3"
  },
  "language_info": {
   "codemirror_mode": {
    "name": "ipython",
    "version": 3
   },
   "file_extension": ".py",
   "mimetype": "text/x-python",
   "name": "python",
   "nbconvert_exporter": "python",
   "pygments_lexer": "ipython3",
   "version": "3.6.0"
  }
 },
 "nbformat": 4,
 "nbformat_minor": 2
}
