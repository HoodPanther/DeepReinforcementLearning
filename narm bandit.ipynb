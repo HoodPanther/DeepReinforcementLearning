{
 "cells": [
  {
   "cell_type": "markdown",
   "metadata": {},
   "source": [
    "Thanks to \n",
    "https://medium.com/@awjuliani/super-simple-reinforcement-learning-tutorial-part-1-fd544fab149#.3ebu974t6\n",
    "\n",
    "One bandit with n arms, requires no state since there is only one bandit, rewards are not delayed but they are stationary and stochastic."
   ]
  },
  {
   "cell_type": "code",
   "execution_count": 1,
   "metadata": {
    "collapsed": true
   },
   "outputs": [],
   "source": [
    "import tensorflow as tf\n",
    "import numpy as np"
   ]
  },
  {
   "cell_type": "code",
   "execution_count": 2,
   "metadata": {
    "collapsed": true
   },
   "outputs": [],
   "source": [
    "bandits = [.2,0,-.2,-5]\n",
    "num_bandits = len(bandits)\n",
    "def pullBandit(bandit):\n",
    "    result = np.random.randn(1)\n",
    "    if result > bandit:\n",
    "        return 1\n",
    "    else:\n",
    "        return -1"
   ]
  },
  {
   "cell_type": "code",
   "execution_count": 5,
   "metadata": {
    "collapsed": false
   },
   "outputs": [],
   "source": [
    "tf.reset_default_graph()\n",
    "\n",
    "weights = tf.Variable(tf.ones([num_bandits]))\n",
    "chosen_action = tf.argmax(weights,0)\n",
    "\n",
    "reward_holder = tf.placeholder(shape=[1],dtype=tf.float32)\n",
    "action_holder = tf.placeholder(shape=[1],dtype=tf.int32)\n",
    "responsible_weight = tf.slice(weights,action_holder,[1])\n",
    "loss = -(tf.log(responsible_weight)*reward_holder)\n",
    "optimizer = tf.train.GradientDescentOptimizer(learning_rate=0.001)\n",
    "update = optimizer.minimize(loss)"
   ]
  },
  {
   "cell_type": "code",
   "execution_count": 10,
   "metadata": {
    "collapsed": false
   },
   "outputs": [
    {
     "name": "stdout",
     "output_type": "stream",
     "text": [
      "Running reward for the 4 bandits: [-1.  0.  0.  0.]\n",
      "Running reward for the 4 bandits: [ -1.  -1.   1.  44.]\n",
      "Running reward for the 4 bandits: [ -1.  -1.   1.  92.]\n",
      "Running reward for the 4 bandits: [  -3.   -4.    2.  136.]\n",
      "Running reward for the 4 bandits: [  -3.   -3.    1.  184.]\n",
      "Running reward for the 4 bandits: [  -3.   -3.    2.  233.]\n",
      "Running reward for the 4 bandits: [  -4.   -2.    3.  280.]\n",
      "Running reward for the 4 bandits: [  -3.   -4.    3.  323.]\n",
      "Running reward for the 4 bandits: [  -2.   -5.    2.  368.]\n",
      "Running reward for the 4 bandits: [  -2.   -5.    4.  414.]\n",
      "Running reward for the 4 bandits: [  -1.   -6.    4.  462.]\n",
      "Running reward for the 4 bandits: [   0.   -6.    3.  508.]\n",
      "Running reward for the 4 bandits: [  -1.   -6.    1.  555.]\n",
      "Running reward for the 4 bandits: [   0.   -8.    3.  600.]\n",
      "Running reward for the 4 bandits: [   0.   -8.    4.  649.]\n",
      "Running reward for the 4 bandits: [   1.   -9.    4.  695.]\n",
      "Running reward for the 4 bandits: [   2.   -9.    4.  744.]\n",
      "Running reward for the 4 bandits: [   2.   -9.    3.  789.]\n",
      "Running reward for the 4 bandits: [   2.  -11.    3.  833.]\n",
      "Running reward for the 4 bandits: [   2.  -12.    3.  880.]\n",
      "The agent thinks bandit 4 is the most promising....\n",
      "...and it was right!\n"
     ]
    }
   ],
   "source": [
    "total_episodes = 1000\n",
    "total_reward = np.zeros(num_bandits)\n",
    "e = .1\n",
    "\n",
    "init = tf.global_variables_initializer()\n",
    "\n",
    "with tf.Session() as sess:\n",
    "    sess.run(init)\n",
    "    i = 0\n",
    "    while i < total_episodes:\n",
    "        if np.random.rand(1) < e:\n",
    "            action = np.random.randint(num_bandits)\n",
    "        else:\n",
    "            action = sess.run(chosen_action)\n",
    "\n",
    "        reward = pullBandit(bandits[action])\n",
    "\n",
    "        _,resp,ww = sess.run([update, responsible_weight, weights],\n",
    "                            feed_dict={reward_holder:[reward],\n",
    "                                       action_holder:[action]})\n",
    "        total_reward[action] += reward\n",
    "        if i % 50 == 0:\n",
    "            print(\"Running reward for the \" + str(num_bandits) + \" bandits: \" + str(total_reward))\n",
    "        i+=1\n",
    "print(\"The agent thinks bandit \" + str(np.argmax(ww)+1) + \" is the most promising....\")\n",
    "if np.argmax(ww) == np.argmax(-np.array(bandits)):\n",
    "    print(\"...and it was right!\")\n",
    "else:\n",
    "    print(\"...and it was wrong!\")"
   ]
  }
 ],
 "metadata": {
  "kernelspec": {
   "display_name": "Python 3",
   "language": "python",
   "name": "python3"
  },
  "language_info": {
   "codemirror_mode": {
    "name": "ipython",
    "version": 3
   },
   "file_extension": ".py",
   "mimetype": "text/x-python",
   "name": "python",
   "nbconvert_exporter": "python",
   "pygments_lexer": "ipython3",
   "version": "3.6.0"
  }
 },
 "nbformat": 4,
 "nbformat_minor": 2
}
